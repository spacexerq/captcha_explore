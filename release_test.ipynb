{
 "metadata": {
  "kernelspec": {
   "language": "python",
   "display_name": "Python 3",
   "name": "python3"
  },
  "language_info": {
   "pygments_lexer": "ipython3",
   "nbconvert_exporter": "python",
   "version": "3.6.4",
   "file_extension": ".py",
   "codemirror_mode": {
    "name": "ipython",
    "version": 3
   },
   "name": "python",
   "mimetype": "text/x-python"
  },
  "kaggle": {
   "accelerator": "gpu",
   "dataSources": [
    {
     "sourceId": 1383737,
     "sourceType": "datasetVersion",
     "datasetId": 807505
    }
   ],
   "dockerImageVersionId": 30066,
   "isInternetEnabled": false,
   "language": "python",
   "sourceType": "notebook",
   "isGpuEnabled": true
  }
 },
 "nbformat_minor": 4,
 "nbformat": 4,
 "cells": [
  {
   "cell_type": "markdown",
   "source": [
    "# Captcha predictor\n",
    "\n",
    "Nikita Babich\n",
    "ITMO University\n",
    "@spacexer\n",
    "\n",
    "\n",
    "# Sources to analyze\n",
    "- https://habr.com/ru/companies/wunderfund/articles/331310/\n",
    "- https://habr.com/ru/articles/720614/\n",
    "- https://neurohive.io/ru/tutorial/primer-vzloma-prostoj-kapchi-za-15-minut-s-pomoshhju-mashinnogo-obuchenija/\n",
    "- https://habr.com/ru/companies/mvideo/articles/780774/\n",
    "- https://habr.com/ru/companies/skillfactory/articles/525214/\n",
    "- https://neurohive.io/ru/osnovy-data-science/glubokaya-svertochnaja-nejronnaja-set/\n",
    "- https://habr.com/ru/articles/464337/\n",
    "- https://github.com/artempelevin/simple_captcha_solver"
   ],
   "metadata": {}
  },
  {
   "cell_type": "code",
   "source": [
    "import albumentations\n",
    "import numpy as np\n",
    "import os\n",
    "import glob\n",
    "import random\n",
    "from pprint import pprint\n",
    "from tqdm import tqdm\n",
    "\n",
    "import torch\n",
    "from torch import nn\n",
    "from torch.nn import functional as F\n",
    "\n",
    "from PIL import Image\n",
    "\n",
    "from matplotlib import pyplot as plt\n",
    "import matplotlib.image as mpimg\n",
    "\n",
    "from sklearn.preprocessing import LabelEncoder\n",
    "from sklearn.model_selection import train_test_split\n",
    "\n",
    "import warnings"
   ],
   "metadata": {
    "id": "EobHW8puKnz_",
    "trusted": true
   },
   "execution_count": 1,
   "outputs": []
  },
  {
   "cell_type": "code",
   "source": [
    "DIR = \"dataset\"\n",
    "IMG_HEIGHT = 75\n",
    "IMG_WIDTH = 300\n",
    "EPOCHS = 150\n",
    "DEVICE = \"cuda\"\n",
    "warnings.filterwarnings(\"ignore\", category=UserWarning)"
   ],
   "metadata": {
    "id": "Q7owOpHEAZd4",
    "trusted": true
   },
   "execution_count": 2,
   "outputs": []
  },
  {
   "cell_type": "code",
   "source": [
    "paths = []\n",
    "labels = []\n",
    "for image in os.listdir(DIR):\n",
    "    paths.append(os.path.join(DIR, image))\n",
    "    labels.append(image.split(\".\")[0])\n",
    "\n",
    "df = {\n",
    "    \"paths\": paths,\n",
    "    \"labels\": labels\n",
    "}"
   ],
   "metadata": {
    "id": "d6fYx-baUQJJ",
    "outputId": "18f80da2-cbe9-4af2-8623-dc3fc5fd81f0",
    "trusted": true
   },
   "execution_count": 3,
   "outputs": []
  },
  {
   "cell_type": "markdown",
   "source": [
    "Идея в том, чтобы на имеющемся наборе картинок с каггла, где в названии лежит ответ на неё (10000 картинок) построить датасет для тренировки и теста, после чего пользоваться моделью для предсказания уже без обновления весов."
   ],
   "metadata": {}
  },
  {
   "cell_type": "markdown",
   "source": [
    "# Модель\n",
    "\n",
    "Использую двухслойную свёрточную нейронку с рекурсией GRU\n",
    "Для функции потерь использую встроенную CTCLoss"
   ],
   "metadata": {}
  },
  {
   "cell_type": "code",
   "source": [
    "def get_loss_function(x, bs, targets):\n",
    "    log_softmax_values = F.log_softmax(x, 2)\n",
    "\n",
    "    input_lengths = torch.full(\n",
    "        size=(bs,), fill_value=log_softmax_values.size(0), dtype=torch.int32\n",
    "    )\n",
    "\n",
    "    target_lengths = torch.full(\n",
    "        size=(bs,), fill_value=targets.size(1), dtype=torch.int32\n",
    "    )\n",
    "\n",
    "    return nn.CTCLoss(blank=0)(log_softmax_values, targets, input_lengths, target_lengths)"
   ],
   "metadata": {
    "trusted": true
   },
   "execution_count": 4,
   "outputs": []
  },
  {
   "cell_type": "code",
   "source": [
    "class Captcha_model(nn.Module):\n",
    "    \"\"\"\n",
    "    Using pytorch nn class to create model\n",
    "\n",
    "    2 layers CNN\n",
    "    1 RNN layer\n",
    "    1 GRU layer\n",
    "\n",
    "    forward method \n",
    "\n",
    "    \"\"\"\n",
    "    def __init__(self, num_chars):\n",
    "        super(Captcha_model, self).__init__()\n",
    "        \n",
    "        # CNN Layer\n",
    "        self.conv1 = nn.Conv2d(3, 128, kernel_size=(3,3), padding=(1,1))\n",
    "        self.maxpool1 = nn.MaxPool2d(kernel_size=(2,2))\n",
    "        \n",
    "        self.conv2 = nn.Conv2d(128, 64, kernel_size=(3,3), padding=(1,1))\n",
    "        self.maxpool2 = nn.MaxPool2d(kernel_size=(2,2))\n",
    "        \n",
    "        # RNN Layer Preprocess\n",
    "        self.linear1 = nn.Linear(1152, 64)\n",
    "        self.drop1 = nn.Dropout(0.2)\n",
    "        \n",
    "        # LSTM GRU\n",
    "        self.gru = nn.GRU(64, 32, bidirectional=True, num_layers=2, dropout=0.25, batch_first=True)\n",
    "        self.output = nn.Linear(64, num_chars+1)\n",
    "\n",
    "\n",
    "    def forward(self, images, targets=None):\n",
    "        bs, channel, height, width = images.size()\n",
    "\n",
    "        x = F.relu(self.conv1(images))\n",
    "        x = self.maxpool1(x)\n",
    "\n",
    "        x = F.relu(self.conv2(x))\n",
    "        x = self.maxpool2(x)\n",
    "\n",
    "        x = x.permute(0, 3, 1, 2)\n",
    "        x = x.view(bs, x.size(1), -1)\n",
    "\n",
    "        x = self.linear1(x)\n",
    "        x = self.drop1(x)\n",
    "\n",
    "        x, _ = self.gru(x)\n",
    "        x = self.output(x)\n",
    "        x = x.permute(1, 0, 2)\n",
    "\n",
    "        if targets is not None:\n",
    "            loss = get_loss_function(x, bs, targets)\n",
    "            return x, loss\n",
    "\n",
    "        return x, None"
   ],
   "metadata": {
    "id": "X7olyEG3DMCx",
    "trusted": true
   },
   "execution_count": 5,
   "outputs": []
  },
  {
   "cell_type": "markdown",
   "source": [
    "Построю функции для тренировки и вычисления"
   ],
   "metadata": {}
  },
  {
   "cell_type": "code",
   "source": [
    "def train_function(model, data_loader, optimizer):\n",
    "    model.train()\n",
    "    fin_loss = 0\n",
    "    tk = tqdm(data_loader, total=len(data_loader))\n",
    "    for data in tk:\n",
    "        for k, v in data.items():\n",
    "            data[k] = v.to(DEVICE)\n",
    "        \n",
    "        optimizer.zero_grad()\n",
    "        _, loss = model(**data)\n",
    "        loss.backward()\n",
    "        optimizer.step()\n",
    "        fin_loss += loss.item()\n",
    "\n",
    "    return fin_loss / len(data_loader)\n",
    "\n",
    "\n",
    "def eval_function(model, data_loader):\n",
    "    model.eval()\n",
    "    fin_loss = 0\n",
    "    fin_preds = []\n",
    "    with torch.no_grad(): \n",
    "        tk = tqdm(data_loader, total=len(data_loader))\n",
    "        for data in tk:\n",
    "            for k, v in data.items():\n",
    "                data[k] = v.to(DEVICE)\n",
    "            \n",
    "            batch_preds, loss = model(**data)\n",
    "            fin_loss += loss.item()\n",
    "            fin_preds.append(batch_preds)\n",
    "\n",
    "        return fin_preds, fin_loss / len(data_loader)"
   ],
   "metadata": {
    "id": "2V_wxo_qCC8w",
    "trusted": true
   },
   "execution_count": 6,
   "outputs": []
  },
  {
   "cell_type": "markdown",
   "source": [
    "# Интеграция картинок\n",
    "\n",
    "Изначальная задумка была в том, чтобы использовать зашумленные линиями капчи, но все фильтры, которые пытался использовать (как в источнике на гите) не работали в сочетании с моделью, поэтому отказался от них - использую просто размытые, разноцветные капчи из букв и цифр"
   ],
   "metadata": {
    "id": "vRwhq12oi6zU"
   }
  },
  {
   "cell_type": "code",
   "source": [
    "def encode_targets():\n",
    "    image_files = glob.glob(os.path.join(DIR, \"*.jpg\"))\n",
    "    targets_orig = [x.split(\"\\\\\")[-1].split(\".\")[0] for x in image_files]\n",
    "    targets = [[c for c in x] for x in targets_orig]\n",
    "    targets_flat = [c for clist in targets for c in clist]\n",
    "\n",
    "    # Encode images\n",
    "    lbl_enc = LabelEncoder()\n",
    "    lbl_enc.fit(targets_flat)\n",
    "\n",
    "    targets_enc = [lbl_enc.transform(x) for x in targets]\n",
    "    targets_enc = np.array(targets_enc) + 1 # remove 0 index\n",
    "\n",
    "    return image_files, targets_enc, targets_orig, lbl_enc"
   ],
   "metadata": {
    "id": "IYzTq9NaiFIG",
    "trusted": true
   },
   "execution_count": 7,
   "outputs": []
  },
  {
   "cell_type": "code",
   "source": [
    "image_files, targets_enc, targets_orig, lbl_enc = encode_targets()\n",
    "\n",
    "(train_imgs, test_imgs, train_targets, test_targets, _, test_orig_targets) = train_test_split(\n",
    "    image_files, targets_enc, targets_orig, test_size=0.1, random_state=0)"
   ],
   "metadata": {
    "id": "coFDxlpQiSqj",
    "trusted": true
   },
   "execution_count": 8,
   "outputs": []
  },
  {
   "cell_type": "markdown",
   "source": [
    "Рома подсказал мне, что удобно пользоваться встроенным в торч дата лоадером"
   ],
   "metadata": {}
  },
  {
   "cell_type": "code",
   "source": [
    "class DatasetClassifier:\n",
    "    def __init__(self, image_paths, targets, resize=None):\n",
    "        self.image_paths = image_paths\n",
    "        self.targets = targets\n",
    "        self.resize = resize\n",
    "        self.aug = albumentations.Compose(\n",
    "            [\n",
    "             albumentations.Normalize(always_apply=True)\n",
    "            ]\n",
    "            )\n",
    "    \n",
    "    def __len__(self):\n",
    "        return len(self.image_paths)\n",
    "    \n",
    "    def __getitem__(self, item):\n",
    "        image = Image.open(self.image_paths[item]).convert(\"RGB\")\n",
    "        target = self.targets[item]\n",
    "        \n",
    "        if self.resize is not None:\n",
    "            image = image.resize((self.resize[1], self.resize[0]), resample=Image.BILINEAR)\n",
    "        \n",
    "        image = np.array(image)\n",
    "        augmented = self.aug(image=image)\n",
    "        image = augmented[\"image\"]\n",
    "        image = np.transpose(image, (2, 0, 1)).astype(np.float32)\n",
    "        \n",
    "        return {\n",
    "            \"images\": torch.tensor(image, dtype=torch.float),\n",
    "            \"targets\": torch.tensor(target, dtype=torch.long)\n",
    "        }"
   ],
   "metadata": {
    "id": "EoMFeyTSKk0R",
    "trusted": true
   },
   "execution_count": 9,
   "outputs": []
  },
  {
   "cell_type": "code",
   "source": [
    "# Classify images, load using pytorch's DataLoader\n",
    "train_dataset = DatasetClassifier(\n",
    "    image_paths=train_imgs, targets=train_targets, resize=(IMG_HEIGHT, IMG_WIDTH)\n",
    ")\n",
    "\n",
    "train_loader = torch.utils.data.DataLoader(\n",
    "    train_dataset,\n",
    "    shuffle=True,\n",
    ")\n",
    "\n",
    "test_dataset = DatasetClassifier(\n",
    "    image_paths=test_imgs, targets=test_targets, resize=(IMG_HEIGHT, IMG_WIDTH)\n",
    ")\n",
    "\n",
    "test_loader = torch.utils.data.DataLoader(\n",
    "    test_dataset,\n",
    "    shuffle=False\n",
    ")"
   ],
   "metadata": {
    "id": "EXloBSGEh0k3",
    "outputId": "bc718539-ec96-44bf-c505-f9c1bf791dae",
    "trusted": true
   },
   "execution_count": 10,
   "outputs": []
  },
  {
   "cell_type": "code",
   "source": [
    "# Load the models\n",
    "model = Captcha_model(num_chars=len(lbl_enc.classes_))\n",
    "model.to(DEVICE)\n",
    "\n",
    "optimizer = torch.optim.Adam(model.parameters(), lr=3e-4)"
   ],
   "metadata": {
    "id": "lMy2k-T8ibzc",
    "trusted": true
   },
   "execution_count": 11,
   "outputs": []
  },
  {
   "cell_type": "code",
   "source": [
    "def early_stopping(patience, count, prev_loss, current_loss, threshold):\n",
    "    if abs(prev_loss - current_loss) < threshold and count >= patience:\n",
    "        return \"stop\"\n",
    "    elif abs(prev_loss - current_loss) < threshold:\n",
    "        return \"count\"\n",
    "    else:\n",
    "        return False"
   ],
   "metadata": {
    "trusted": true
   },
   "execution_count": 12,
   "outputs": []
  },
  {
   "cell_type": "code",
   "source": [
    "def decode_predictions(preds, encoder):\n",
    "    preds = preds.permute(1, 0, 2)\n",
    "    preds = torch.softmax(preds, 2)\n",
    "    preds = torch.argmax(preds, 2)\n",
    "    preds = preds.detach().cpu().numpy()\n",
    "    cap_preds = []\n",
    "    for j in range(preds.shape[0]):\n",
    "        temp = []\n",
    "        for k in preds[j,:]:\n",
    "            k = k - 1\n",
    "            if k == -1:\n",
    "                temp.append(\"-\")\n",
    "            else:\n",
    "                temp.append(encoder.inverse_transform([k])[0])\n",
    "        tp = \"\".join(temp)\n",
    "        cap_preds.append(tp)\n",
    "    return cap_preds"
   ],
   "metadata": {
    "id": "5aP0UoKnEnBZ",
    "trusted": true
   },
   "execution_count": 13,
   "outputs": []
  },
  {
   "cell_type": "markdown",
   "source": [
    "## Запуск модели с заданными параметрами и функцией ограничения от переобучения"
   ],
   "metadata": {}
  },
  {
   "cell_type": "code",
   "source": [
    "patience = 6\n",
    "count = 0\n",
    "prev_train_loss = 0\n",
    "threshold = 0.05\n",
    "loss = []\n",
    "\n",
    "for epoch in range(EPOCHS):\n",
    "    train_loss = train_function(model, train_loader, optimizer)\n",
    "    valid_preds, valid_loss = eval_function(model, test_loader)\n",
    "    valid_cap_preds = []\n",
    "\n",
    "    for vp in valid_preds:\n",
    "        current_preds = decode_predictions(vp, lbl_enc)\n",
    "        valid_cap_preds.extend(current_preds)\n",
    "        \n",
    "    pprint(list(zip(test_orig_targets, valid_cap_preds))[15:20])\n",
    "    print(f\"Epoch: {epoch}, train_loss: {train_loss}, valid_loss: {valid_loss}\")\n",
    "    \n",
    "    res = early_stopping(patience, count, prev_train_loss, train_loss, threshold)\n",
    "    \n",
    "    loss.append(train_loss)\n",
    "    \n",
    "    if res == \"stop\":\n",
    "        print(\"Early Stopping Implemented.\")\n",
    "        final_epoch = epoch\n",
    "        break\n",
    "    elif res == \"count\" and train_loss < 0.2:\n",
    "        count += 1\n",
    "        print(f\"Patience at {patience-count}\")\n",
    "    else:\n",
    "        prev_train_loss = train_loss"
   ],
   "metadata": {
    "id": "1PzEfn8DEic9",
    "trusted": true
   },
   "execution_count": 14,
   "outputs": [
    {
     "name": "stderr",
     "output_type": "stream",
     "text": [
      "100%|██████████| 9000/9000 [00:44<00:00, 200.82it/s]\n",
      "100%|██████████| 1000/1000 [00:02<00:00, 415.80it/s]\n"
     ]
    },
    {
     "name": "stdout",
     "output_type": "stream",
     "text": [
      "[('9KN1224J1H',\n",
      "  '---------------------------------------------------------------------------'),\n",
      " ('LxB8Hdx83P',\n",
      "  '---------------------------------------------------------------------------'),\n",
      " ('bmqnN0sdDX',\n",
      "  '---------------------------------------------------------------------------'),\n",
      " ('862n6P13Hi',\n",
      "  '---------------------------------------------------------------------------'),\n",
      " ('RsPDymcb49',\n",
      "  '---------------------------------------------------------------------------')]\n",
      "Epoch: 0, train_loss: 4.284828514364031, valid_loss: 4.2524825556278225\n"
     ]
    },
    {
     "name": "stderr",
     "output_type": "stream",
     "text": [
      "100%|██████████| 9000/9000 [00:46<00:00, 195.34it/s]\n",
      "100%|██████████| 1000/1000 [00:02<00:00, 345.73it/s]\n"
     ]
    },
    {
     "name": "stdout",
     "output_type": "stream",
     "text": [
      "[('9KN1224J1H',\n",
      "  '----------------------------------------------------------------------88888'),\n",
      " ('LxB8Hdx83P',\n",
      "  '---------------------------------------------------------------------888888'),\n",
      " ('bmqnN0sdDX',\n",
      "  '----------------------------------------------------------------------88888'),\n",
      " ('862n6P13Hi',\n",
      "  '----------------------------------------------------------------------88888'),\n",
      " ('RsPDymcb49',\n",
      "  '---------------------------------------------------------------------888888')]\n",
      "Epoch: 1, train_loss: 4.20872234307395, valid_loss: 4.179954681873322\n"
     ]
    },
    {
     "name": "stderr",
     "output_type": "stream",
     "text": [
      "100%|██████████| 9000/9000 [00:46<00:00, 192.02it/s]\n",
      "100%|██████████| 1000/1000 [00:02<00:00, 419.29it/s]\n"
     ]
    },
    {
     "name": "stdout",
     "output_type": "stream",
     "text": [
      "[('9KN1224J1H',\n",
      "  '---------------------------------------------------------------------------'),\n",
      " ('LxB8Hdx83P',\n",
      "  '---------------------------------------------------------------------------'),\n",
      " ('bmqnN0sdDX',\n",
      "  '---------------------------------------------------------------------------'),\n",
      " ('862n6P13Hi',\n",
      "  '---------------------------------------------------------------------------'),\n",
      " ('RsPDymcb49',\n",
      "  '---------------------------------------------------------------------------')]\n",
      "Epoch: 2, train_loss: 4.185563576671813, valid_loss: 4.169219618082047\n"
     ]
    },
    {
     "name": "stderr",
     "output_type": "stream",
     "text": [
      "100%|██████████| 9000/9000 [00:44<00:00, 203.99it/s]\n",
      "100%|██████████| 1000/1000 [00:02<00:00, 427.72it/s]\n"
     ]
    },
    {
     "name": "stdout",
     "output_type": "stream",
     "text": [
      "[('9KN1224J1H',\n",
      "  '----------------------------------------------------------------4---------9'),\n",
      " ('LxB8Hdx83P',\n",
      "  '--------------------------------------------------------------------------1'),\n",
      " ('bmqnN0sdDX',\n",
      "  '--------------------------------------------------------------------------9'),\n",
      " ('862n6P13Hi',\n",
      "  '--------------------------------------------------------------------------1'),\n",
      " ('RsPDymcb49',\n",
      "  '--------------------------------------------------------------------------9')]\n",
      "Epoch: 3, train_loss: 4.17239635599984, valid_loss: 4.159226780414581\n"
     ]
    },
    {
     "name": "stderr",
     "output_type": "stream",
     "text": [
      "100%|██████████| 9000/9000 [00:49<00:00, 182.61it/s]\n",
      "100%|██████████| 1000/1000 [00:02<00:00, 403.88it/s]\n"
     ]
    },
    {
     "name": "stdout",
     "output_type": "stream",
     "text": [
      "[('9KN1224J1H',\n",
      "  '-----------------------------------------------------------------M44444---1'),\n",
      " ('LxB8Hdx83P',\n",
      "  '-----------------------------------------------------------------888-666611'),\n",
      " ('bmqnN0sdDX',\n",
      "  '----------------------------------------------------------------80-44---444'),\n",
      " ('862n6P13Hi',\n",
      "  '-----------------------------------------------------------------9966----11'),\n",
      " ('RsPDymcb49',\n",
      "  '-----------------------------------------------------------------1112----44')]\n",
      "Epoch: 4, train_loss: 4.089196404033237, valid_loss: 4.014995916128159\n"
     ]
    },
    {
     "name": "stderr",
     "output_type": "stream",
     "text": [
      "100%|██████████| 9000/9000 [00:46<00:00, 192.67it/s]\n",
      "100%|██████████| 1000/1000 [00:02<00:00, 382.26it/s]\n"
     ]
    },
    {
     "name": "stdout",
     "output_type": "stream",
     "text": [
      "[('9KN1224J1H',\n",
      "  '---------------------------------------------------------------W4---------7'),\n",
      " ('LxB8Hdx83P',\n",
      "  '---------------------------------------------------------------96---------7'),\n",
      " ('bmqnN0sdDX',\n",
      "  '--------------------------------------------------------------22---K------K'),\n",
      " ('862n6P13Hi',\n",
      "  '---------------------------------------------------------------94---------7'),\n",
      " ('RsPDymcb49',\n",
      "  '---------------------------------------------------------------2----------4')]\n",
      "Epoch: 5, train_loss: 3.967990494940016, valid_loss: 3.891113626718521\n"
     ]
    },
    {
     "name": "stderr",
     "output_type": "stream",
     "text": [
      "100%|██████████| 9000/9000 [00:46<00:00, 192.08it/s]\n",
      "100%|██████████| 1000/1000 [00:02<00:00, 409.00it/s]\n"
     ]
    },
    {
     "name": "stdout",
     "output_type": "stream",
     "text": [
      "[('9KN1224J1H',\n",
      "  '--------------------------------------------------------------MM----------0'),\n",
      " ('LxB8Hdx83P',\n",
      "  '--------------------------------------------------------------96----------0'),\n",
      " ('bmqnN0sdDX',\n",
      "  '-------------------------------------------------------------20--MM-------M'),\n",
      " ('862n6P13Hi',\n",
      "  '--------------------------------------------------------------94----------0'),\n",
      " ('RsPDymcb49',\n",
      "  '--------------------------------------------------------------20---------46')]\n",
      "Epoch: 6, train_loss: 3.8510454553233253, valid_loss: 3.7920763394832613\n"
     ]
    },
    {
     "name": "stderr",
     "output_type": "stream",
     "text": [
      "100%|██████████| 9000/9000 [00:48<00:00, 187.19it/s]\n",
      "100%|██████████| 1000/1000 [00:02<00:00, 369.96it/s]\n"
     ]
    },
    {
     "name": "stdout",
     "output_type": "stream",
     "text": [
      "[('9KN1224J1H',\n",
      "  '----------------------------------------------------------------WWNN---4--0'),\n",
      " ('LxB8Hdx83P',\n",
      "  '----------------------------------------------------------------06----44--0'),\n",
      " ('bmqnN0sdDX',\n",
      "  '----------------------------------------------------------------70--W-----W'),\n",
      " ('862n6P13Hi',\n",
      "  '----------------------------------------------------------------94--66----0'),\n",
      " ('RsPDymcb49',\n",
      "  '----------------------------------------------------------------66-------40')]\n",
      "Epoch: 7, train_loss: 3.768728127029207, valid_loss: 3.6947868425846098\n"
     ]
    },
    {
     "name": "stderr",
     "output_type": "stream",
     "text": [
      "100%|██████████| 9000/9000 [00:45<00:00, 198.67it/s]\n",
      "100%|██████████| 1000/1000 [00:02<00:00, 397.93it/s]\n"
     ]
    },
    {
     "name": "stdout",
     "output_type": "stream",
     "text": [
      "[('9KN1224J1H',\n",
      "  '---------------------------------------------------------------WWM-----4--7'),\n",
      " ('LxB8Hdx83P',\n",
      "  '---------------------------------------------------------------24-----4---7'),\n",
      " ('bmqnN0sdDX',\n",
      "  '---------------------------------------------------------------777-WM-----W'),\n",
      " ('862n6P13Hi',\n",
      "  '---------------------------------------------------------------99---------7'),\n",
      " ('RsPDymcb49',\n",
      "  '---------------------------------------------------------------10--------47')]\n",
      "Epoch: 8, train_loss: 3.6963237960073685, valid_loss: 3.6372828340530394\n"
     ]
    },
    {
     "name": "stderr",
     "output_type": "stream",
     "text": [
      "100%|██████████| 9000/9000 [00:44<00:00, 200.09it/s]\n",
      "100%|██████████| 1000/1000 [00:02<00:00, 406.17it/s]\n"
     ]
    },
    {
     "name": "stdout",
     "output_type": "stream",
     "text": [
      "[('9KN1224J1H',\n",
      "  '--------------------------------------------------------------MMMM-----4--1'),\n",
      " ('LxB8Hdx83P',\n",
      "  '--------------------------------------------------------------2k------4---1'),\n",
      " ('bmqnN0sdDX',\n",
      "  '------------------------------------------------------------20---M--------W'),\n",
      " ('862n6P13Hi',\n",
      "  '--------------------------------------------------------------96----------1'),\n",
      " ('RsPDymcb49',\n",
      "  '--------------------------------------------------------------10--------441')]\n",
      "Epoch: 9, train_loss: 3.647158395051956, valid_loss: 3.6116559734344484\n"
     ]
    },
    {
     "name": "stderr",
     "output_type": "stream",
     "text": [
      "100%|██████████| 9000/9000 [00:46<00:00, 194.67it/s]\n",
      "100%|██████████| 1000/1000 [00:02<00:00, 343.41it/s]\n"
     ]
    },
    {
     "name": "stdout",
     "output_type": "stream",
     "text": [
      "[('9KN1224J1H',\n",
      "  '---------------------------------------------------------------WMM----4--11'),\n",
      " ('LxB8Hdx83P',\n",
      "  '---------------------------------------------------------------3k-----4--11'),\n",
      " ('bmqnN0sdDX',\n",
      "  '--------------------------------------------------------------207--W------X'),\n",
      " ('862n6P13Hi',\n",
      "  '---------------------------------------------------------------96--66-----1'),\n",
      " ('RsPDymcb49',\n",
      "  '---------------------------------------------------------------e66-------41')]\n",
      "Epoch: 10, train_loss: 3.60723316166136, valid_loss: 3.5504385385513304\n"
     ]
    },
    {
     "name": "stderr",
     "output_type": "stream",
     "text": [
      "100%|██████████| 9000/9000 [00:44<00:00, 200.04it/s]\n",
      "100%|██████████| 1000/1000 [00:02<00:00, 419.64it/s]\n"
     ]
    },
    {
     "name": "stdout",
     "output_type": "stream",
     "text": [
      "[('9KN1224J1H',\n",
      "  '--------------------------------------------------------------K-K-----4---1'),\n",
      " ('LxB8Hdx83P',\n",
      "  '--------------------------------------------------------------8V-----4----1'),\n",
      " ('bmqnN0sdDX',\n",
      "  '---------------------------------------------------------77----M----------X'),\n",
      " ('862n6P13Hi',\n",
      "  '--------------------------------------------------------------96---6------8'),\n",
      " ('RsPDymcb49',\n",
      "  '--------------------------------------------------------------9---4----4444')]\n",
      "Epoch: 11, train_loss: 3.599982949256897, valid_loss: 3.5379915380477907\n"
     ]
    },
    {
     "name": "stderr",
     "output_type": "stream",
     "text": [
      "100%|██████████| 9000/9000 [00:44<00:00, 200.46it/s]\n",
      "100%|██████████| 1000/1000 [00:02<00:00, 426.99it/s]\n"
     ]
    },
    {
     "name": "stdout",
     "output_type": "stream",
     "text": [
      "[('9KN1224J1H',\n",
      "  '------------9-----K--------N------------------------4---------------------0'),\n",
      " ('LxB8Hdx83P',\n",
      "  '-------------------x---------------------------------k--------------------1'),\n",
      " ('bmqnN0sdDX',\n",
      "  '----------------------------------------N------------sv-------------------X'),\n",
      " ('862n6P13Hi',\n",
      "  '-----------------9-------------------666----------------------------------1'),\n",
      " ('RsPDymcb49',\n",
      "  '--------------------v-------------------v-----------------------44------9--')]\n",
      "Epoch: 12, train_loss: 3.4797241800493666, valid_loss: 3.0687932389974595\n"
     ]
    },
    {
     "name": "stderr",
     "output_type": "stream",
     "text": [
      "100%|██████████| 9000/9000 [00:45<00:00, 195.90it/s]\n",
      "100%|██████████| 1000/1000 [00:03<00:00, 316.45it/s]\n"
     ]
    },
    {
     "name": "stdout",
     "output_type": "stream",
     "text": [
      "[('9KN1224J1H',\n",
      "  '-----------9-----K--------N-------3----2-----5----4---------1------1------8'),\n",
      " ('LxB8Hdx83P',\n",
      "  '------------1-----x-----Z-------8-----B-------0----x-------8-----3--------0'),\n",
      " ('bmqnN0sdDX',\n",
      "  '-------------0--------------------------N-----0-----s--------------0-----X-'),\n",
      " ('862n6P13Hi',\n",
      "  '-----------8----66--------2----5-----6----------------3----3--H-----------3'),\n",
      " ('RsPDymcb49',\n",
      "  '------------0-----s------0-------0----y-------0-----n-----0-----4---------t')]\n",
      "Epoch: 13, train_loss: 2.449485083838304, valid_loss: 1.742579953789711\n"
     ]
    },
    {
     "name": "stderr",
     "output_type": "stream",
     "text": [
      "100%|██████████| 9000/9000 [00:46<00:00, 193.09it/s]\n",
      "100%|██████████| 1000/1000 [00:02<00:00, 426.26it/s]\n"
     ]
    },
    {
     "name": "stdout",
     "output_type": "stream",
     "text": [
      "[('9KN1224J1H',\n",
      "  '----------99-----K--------N-------1----2-----2----4--------1-------1------8'),\n",
      " ('LxB8Hdx83P',\n",
      "  '------------1----x------B-------8-----H-------q----x-------8-----3--------P'),\n",
      " ('bmqnN0sdDX',\n",
      "  '------------b-----m------q--------n-----N-----0-----s------B-------0-----X-'),\n",
      " ('862n6P13Hi',\n",
      "  '-----------8----66-------2-----n-----66--------p------1----3-----8--------3'),\n",
      " ('RsPDymcb49',\n",
      "  '------------R-----s------P-------0----y-------m-----c-----p-----4---------t')]\n",
      "Epoch: 14, train_loss: 1.5188748316367466, valid_loss: 1.0100059488117694\n"
     ]
    },
    {
     "name": "stderr",
     "output_type": "stream",
     "text": [
      "100%|██████████| 9000/9000 [00:43<00:00, 204.72it/s]\n",
      "100%|██████████| 1000/1000 [00:02<00:00, 411.86it/s]\n"
     ]
    },
    {
     "name": "stdout",
     "output_type": "stream",
     "text": [
      "[('9KN1224J1H',\n",
      "  '----------99----K---------N-------1---22----2----444-------J-------1------H'),\n",
      " ('LxB8Hdx83P',\n",
      "  '------------L----x------B-------8-----H-------q----x------8-----3---------P'),\n",
      " ('bmqnN0sdDX',\n",
      "  '------------b-----m------q-------n-----N------0----s-------d-------D----X--'),\n",
      " ('862n6P13Hi',\n",
      "  '-----------8----66-------2------n----66--------P-----1-----3-----H--------i'),\n",
      " ('RsPDymcb49',\n",
      "  '------------R----s-------P-------D----y-------m-----c-----b----44---------0')]\n",
      "Epoch: 15, train_loss: 0.82750482433786, valid_loss: 0.4677753215283155\n"
     ]
    },
    {
     "name": "stderr",
     "output_type": "stream",
     "text": [
      "100%|██████████| 9000/9000 [00:45<00:00, 196.47it/s]\n",
      "100%|██████████| 1000/1000 [00:02<00:00, 417.36it/s]\n"
     ]
    },
    {
     "name": "stdout",
     "output_type": "stream",
     "text": [
      "[('9KN1224J1H',\n",
      "  '----------99----K--------N-------1----2-----2----44--------J-------1------H'),\n",
      " ('LxB8Hdx83P',\n",
      "  '------------L----x------B-------8-----H-------d---x-------8-----3---------E'),\n",
      " ('bmqnN0sdDX',\n",
      "  '------------b-----m------q-------h----N-------0----s-------d-------D----X--'),\n",
      " ('862n6P13Hi',\n",
      "  '-----------8----66-------2------n----66--------P-----1-----3-----H--------i'),\n",
      " ('RsPDymcb49',\n",
      "  '------------R----s-------P-------D----y-------m-----c-----b----4----------9')]\n",
      "Epoch: 16, train_loss: 0.4678149657038351, valid_loss: 0.30125152149237694\n"
     ]
    },
    {
     "name": "stderr",
     "output_type": "stream",
     "text": [
      "100%|██████████| 9000/9000 [00:45<00:00, 197.31it/s]\n",
      "100%|██████████| 1000/1000 [00:02<00:00, 373.00it/s]\n"
     ]
    },
    {
     "name": "stdout",
     "output_type": "stream",
     "text": [
      "[('9KN1224J1H',\n",
      "  '----------9-----KK--------N------1----2-----2----44--------J-------1------H'),\n",
      " ('LxB8Hdx83P',\n",
      "  '------------L----x------B-------8-----H-------d----x------8-----3---------E'),\n",
      " ('bmqnN0sdDX',\n",
      "  '------------b-----m------q-------n-----N------0----s-------d-------D----X--'),\n",
      " ('862n6P13Hi',\n",
      "  '-----------8----66-------2-----n-----66-------PP-----1----3------H--------i'),\n",
      " ('RsPDymcb49',\n",
      "  '------------R----s------PP-------D----y-------m-----c-----b----44---------a')]\n",
      "Epoch: 17, train_loss: 0.30586059739213023, valid_loss: 0.2492877768687904\n"
     ]
    },
    {
     "name": "stderr",
     "output_type": "stream",
     "text": [
      "100%|██████████| 9000/9000 [00:46<00:00, 192.99it/s]\n",
      "100%|██████████| 1000/1000 [00:02<00:00, 363.24it/s]\n"
     ]
    },
    {
     "name": "stdout",
     "output_type": "stream",
     "text": [
      "[('9KN1224J1H',\n",
      "  '----------99----K---------N------1----2-----2----44--------J-------1------H'),\n",
      " ('LxB8Hdx83P',\n",
      "  '------------L----x------B-------8-----H-------d----x------8-----3---------E'),\n",
      " ('bmqnN0sdDX',\n",
      "  '------------b-----m------q-------n----N-------0----s-------d-------D----X--'),\n",
      " ('862n6P13Hi',\n",
      "  '-----------8----66-------2-----nn----66--------P-----1----33-----H--------i'),\n",
      " ('RsPDymcb49',\n",
      "  '------------R----s-------P-------D----y-------m-----c-----b----44---------9')]\n",
      "Epoch: 18, train_loss: 0.2070123789501894, valid_loss: 0.11468635720852763\n"
     ]
    },
    {
     "name": "stderr",
     "output_type": "stream",
     "text": [
      "100%|██████████| 9000/9000 [00:46<00:00, 191.58it/s]\n",
      "100%|██████████| 1000/1000 [00:02<00:00, 414.59it/s]\n"
     ]
    },
    {
     "name": "stdout",
     "output_type": "stream",
     "text": [
      "[('9KN1224J1H',\n",
      "  '----------99----K--------N-------1----2-----2----44--------J-------1------H'),\n",
      " ('LxB8Hdx83P',\n",
      "  '------------L----x------B-------8-----H-------d----x------8-----3---------E'),\n",
      " ('bmqnN0sdDX',\n",
      "  '------------b-----m------q-------n----N-------0----s-------d-------D----X--'),\n",
      " ('862n6P13Hi',\n",
      "  '-----------8----66-------2------n---66---------P-----1-----3-----H--------i'),\n",
      " ('RsPDymcb49',\n",
      "  '------------R----s-------P-------D----y-------m-----c-----b----44---------9')]\n",
      "Epoch: 19, train_loss: 0.1458327520629391, valid_loss: 0.07264087660727091\n"
     ]
    },
    {
     "name": "stderr",
     "output_type": "stream",
     "text": [
      "100%|██████████| 9000/9000 [00:46<00:00, 194.97it/s]\n",
      "100%|██████████| 1000/1000 [00:02<00:00, 416.66it/s]\n"
     ]
    },
    {
     "name": "stdout",
     "output_type": "stream",
     "text": [
      "[('9KN1224J1H',\n",
      "  '---------99-----K--------NN------1----2-----2----444-------J-------1------H'),\n",
      " ('LxB8Hdx83P',\n",
      "  '------------L----x------B-------8-----H-------d---x-------8-----3---------P'),\n",
      " ('bmqnN0sdDX',\n",
      "  '------------b-----m------q-------n----N-------0----s-------d-------D----X--'),\n",
      " ('862n6P13Hi',\n",
      "  '-----------8---666-------2-----n----66--------P------1----3------H--------i'),\n",
      " ('RsPDymcb49',\n",
      "  '------------R----s------P--------D----y-------m-----c-----b---444---------9')]\n",
      "Epoch: 20, train_loss: 0.11496146364538516, valid_loss: 0.07820734891679604\n",
      "Patience at 5\n"
     ]
    },
    {
     "name": "stderr",
     "output_type": "stream",
     "text": [
      "100%|██████████| 9000/9000 [00:47<00:00, 188.88it/s]\n",
      "100%|██████████| 1000/1000 [00:02<00:00, 387.00it/s]\n"
     ]
    },
    {
     "name": "stdout",
     "output_type": "stream",
     "text": [
      "[('9KN1224J1H',\n",
      "  '----------99----K--------N-------1----2-----2----444-------J-------1------H'),\n",
      " ('LxB8Hdx83P',\n",
      "  '------------L---xx------B-------8----H-------dd---x-------8-----3---------P'),\n",
      " ('bmqnN0sdDX',\n",
      "  '------------b-----m------q-------n----N-------0----s-------d------D-----X--'),\n",
      " ('862n6P13Hi',\n",
      "  '-----------8---666-------2-----n----66--------P------1----3-----HH--------i'),\n",
      " ('RsPDymcb49',\n",
      "  '------------R----s------P--------D---y--------m-----c-----b----44---------9')]\n",
      "Epoch: 21, train_loss: 0.09262294803496399, valid_loss: 0.03960266779409721\n"
     ]
    },
    {
     "name": "stderr",
     "output_type": "stream",
     "text": [
      "100%|██████████| 9000/9000 [00:46<00:00, 195.04it/s]\n",
      "100%|██████████| 1000/1000 [00:02<00:00, 437.06it/s]\n"
     ]
    },
    {
     "name": "stdout",
     "output_type": "stream",
     "text": [
      "[('9KN1224J1H',\n",
      "  '----------99----K--------N-------1----2-----2----444-------J-------1------H'),\n",
      " ('LxB8Hdx83P',\n",
      "  '------------L----x------B-------8----HH-------d---xx------8-----3---------P'),\n",
      " ('bmqnN0sdDX',\n",
      "  '------------b-----m------q-------n----N-------0----s-------d-------D----X--'),\n",
      " ('862n6P13Hi',\n",
      "  '-----------8----66-------2-----n----666-------P------1----3------H--------i'),\n",
      " ('RsPDymcb49',\n",
      "  '------------R----s------P--------D---yy-------m-----c-----b----44---------9')]\n",
      "Epoch: 22, train_loss: 0.07837214507903749, valid_loss: 0.04316873318812577\n",
      "Patience at 4\n"
     ]
    },
    {
     "name": "stderr",
     "output_type": "stream",
     "text": [
      "100%|██████████| 9000/9000 [00:44<00:00, 204.28it/s]\n",
      "100%|██████████| 1000/1000 [00:02<00:00, 400.64it/s]\n"
     ]
    },
    {
     "name": "stdout",
     "output_type": "stream",
     "text": [
      "[('9KN1224J1H',\n",
      "  '----------99---K---------N-------1----2-----2----44--------J-------1------H'),\n",
      " ('LxB8Hdx83P',\n",
      "  '------------L---x-------B-------8----HH------dd---x-------8-----3---------P'),\n",
      " ('bmqnN0sdDX',\n",
      "  '------------b-----m------q-------n----N-------0---ss-------d-------D---XX--'),\n",
      " ('862n6P13Hi',\n",
      "  '-----------8---666-------2-----n----66--------P------1----3------H--------i'),\n",
      " ('RsPDymcb49',\n",
      "  '------------R----s------P--------D---y--------m-----c-----b----44---------9')]\n",
      "Epoch: 23, train_loss: 0.0670805777057281, valid_loss: 0.039612285695242465\n",
      "Patience at 3\n"
     ]
    },
    {
     "name": "stderr",
     "output_type": "stream",
     "text": [
      "100%|██████████| 9000/9000 [00:46<00:00, 193.61it/s]\n",
      "100%|██████████| 1000/1000 [00:02<00:00, 397.30it/s]\n"
     ]
    },
    {
     "name": "stdout",
     "output_type": "stream",
     "text": [
      "[('9KN1224J1H',\n",
      "  '----------99---KK--------N-------1----2-----2----444-------J-------1------H'),\n",
      " ('LxB8Hdx83P',\n",
      "  '------------L---xx------B-------8----HH------dd---X-------8-----3---------P'),\n",
      " ('bmqnN0sdDX',\n",
      "  '------------b-----m------q-------n----N-------0---ss-------d------D-----X--'),\n",
      " ('862n6P13Hi',\n",
      "  '-----------8---666-------2-----n----666-------P------1----3------H--------i'),\n",
      " ('RsPDymcb49',\n",
      "  '------------R----s------P--------D---y--------m-----c-----b----44---------9')]\n",
      "Epoch: 24, train_loss: 0.06018494114676853, valid_loss: 0.06920655163971241\n",
      "Patience at 2\n"
     ]
    },
    {
     "name": "stderr",
     "output_type": "stream",
     "text": [
      "100%|██████████| 9000/9000 [00:46<00:00, 193.06it/s]\n",
      "100%|██████████| 1000/1000 [00:02<00:00, 377.57it/s]\n"
     ]
    },
    {
     "name": "stdout",
     "output_type": "stream",
     "text": [
      "[('9KN1224J1H',\n",
      "  '----------99---KK--------N-------1----2-----2----44--------J-------1------H'),\n",
      " ('LxB8Hdx83P',\n",
      "  '------------L---x-------B-------8----H--------d---x-------8-----3---------P'),\n",
      " ('bmqnN0sdDX',\n",
      "  '------------b-----m------q-------n----N-------0---ss-------d------D----X---'),\n",
      " ('862n6P13Hi',\n",
      "  '-----------8---666-------2-----nn---666-------P------1----3------H--------i'),\n",
      " ('RsPDymcb49',\n",
      "  '------------R---ss------PP-------D---y--------m-----c-----b----44---------9')]\n",
      "Epoch: 25, train_loss: 0.0558048137717738, valid_loss: 0.05131930947161163\n",
      "Patience at 1\n"
     ]
    },
    {
     "name": "stderr",
     "output_type": "stream",
     "text": [
      "100%|██████████| 9000/9000 [00:48<00:00, 185.41it/s]\n",
      "100%|██████████| 1000/1000 [00:03<00:00, 309.54it/s]\n"
     ]
    },
    {
     "name": "stdout",
     "output_type": "stream",
     "text": [
      "[('9KN1224J1H',\n",
      "  '-----------9----K--------N-------1----2-----2----44--------J-------1------H'),\n",
      " ('LxB8Hdx83P',\n",
      "  '------------L---xx------B-------8----HH------dd---x-------8-----3---------F'),\n",
      " ('bmqnN0sdDX',\n",
      "  '------------b-----m------q-------n----N-------0----s-------d------D----XX--'),\n",
      " ('862n6P13Hi',\n",
      "  '-----------8---666-------2-----n-----66-------P------1----3-----HH--------i'),\n",
      " ('RsPDymcb49',\n",
      "  '------------R----s------P--------D---y--------m-----c-----b----44---------9')]\n",
      "Epoch: 26, train_loss: 0.051296529784876234, valid_loss: 0.04403090733871795\n",
      "Patience at 0\n"
     ]
    },
    {
     "name": "stderr",
     "output_type": "stream",
     "text": [
      "100%|██████████| 9000/9000 [00:55<00:00, 161.87it/s]\n",
      "100%|██████████| 1000/1000 [00:03<00:00, 322.42it/s]\n"
     ]
    },
    {
     "name": "stdout",
     "output_type": "stream",
     "text": [
      "[('9KN1224J1H',\n",
      "  '----------99----K--------N-------1----2-----2----444-------J-------1------H'),\n",
      " ('LxB8Hdx83P',\n",
      "  '------------L----x------B-------8-----H-------d---x-------8-----3---------F'),\n",
      " ('bmqnN0sdDX',\n",
      "  '------------b-----m------q-------n----N-------0----s-------d-------D----X--'),\n",
      " ('862n6P13Hi',\n",
      "  '-----------8----66-------2------n---666-------PP-----1----33-----H--------i'),\n",
      " ('RsPDymcb49',\n",
      "  '------------R----s------P--------D---y--------m-----c-----b----44---------9')]\n",
      "Epoch: 27, train_loss: 0.047296283092543794, valid_loss: 0.02832991945692629\n",
      "Early Stopping Implemented.\n"
     ]
    }
   ]
  },
  {
   "cell_type": "code",
   "source": [
    "torch.save(model.state_dict(), \"model_finish\")"
   ],
   "metadata": {
    "id": "aZEAv1GMfPy7",
    "trusted": true
   },
   "execution_count": 15,
   "outputs": []
  },
  {
   "cell_type": "code",
   "source": [
    "plt.figure(figsize=(15,5))\n",
    "plt.grid()\n",
    "plt.xlabel(\"Epoch\")\n",
    "plt.ylabel(\"Loss Value\")\n",
    "plt.title(\"Loss During Epoch Training\")\n",
    "plt.plot(loss)\n",
    "plt.savefig(\"release of loss.png\")\n",
    "plt.show()"
   ],
   "metadata": {
    "trusted": true
   },
   "execution_count": 21,
   "outputs": [
    {
     "data": {
      "text/plain": "<Figure size 1500x500 with 1 Axes>",
      "image/png": "[encoded data removed]"
     },
     "metadata": {},
     "output_type": "display_data"
    }
   ]
  },
  {
   "cell_type": "markdown",
   "source": [
    "# Оценка предсказаний нейросети\n",
    "\n",
    "Проверяю, насколько точно предсказание получается на рандомном изображении"
   ],
   "metadata": {}
  },
  {
   "cell_type": "code",
   "source": [
    "def get_image(image_path=None):\n",
    "    if image_path == None:\n",
    "        img = random.choice(df[\"paths\"])\n",
    "        return [img]\n",
    "    return [image_path]\n",
    "\n",
    "\n",
    "def get_sample_photo(image_path=None):\n",
    "    img = get_image(image_path)\n",
    "    eval_dataset = DatasetClassifier(\n",
    "        image_paths=img, targets=[np.array([x for x in np.arange(10)])], resize=(IMG_HEIGHT, IMG_WIDTH)\n",
    "    )\n",
    "\n",
    "    eval_loader = torch.utils.data.DataLoader(\n",
    "        eval_dataset,\n",
    "        shuffle=False\n",
    "    )\n",
    "    \n",
    "    return img, eval_loader"
   ],
   "metadata": {
    "trusted": true
   },
   "execution_count": 17,
   "outputs": []
  },
  {
   "cell_type": "code",
   "source": [
    "image_path, eval_loader = get_sample_photo()\n",
    "\n",
    "def clean_decoded_predictions(unclean_predictions):\n",
    "    cleaned_predictions = []\n",
    "    for i in unclean_predictions:\n",
    "        if i != \"-\":\n",
    "            cleaned_predictions.append(i)\n",
    "    cleaned_predictions = \"\".join(cleaned_predictions)\n",
    "    if len(cleaned_predictions) == 10:\n",
    "        return cleaned_predictions\n",
    "    else:\n",
    "        prev = \"-\"\n",
    "        new_cleaned_predictions = []\n",
    "        for char in cleaned_predictions:\n",
    "            if char == prev:\n",
    "                continue\n",
    "            new_cleaned_predictions.append(char)\n",
    "            prev = char\n",
    "        res = \"\".join(new_cleaned_predictions)\n",
    "        return res\n",
    "    \n",
    "def predict_captcha(model, eval_loader, image_path):\n",
    "    plt.figure(figsize=(15,5))\n",
    "    image = mpimg.imread(image_path[0])\n",
    "    target = image_path[0].split(\"\\\\\")[-1].split(\".\")[0]\n",
    "    plt.title(image_path[0].split(\"\\\\\")[-1])\n",
    "    plt.imshow(image)\n",
    "    \n",
    "    valid_preds, _ = eval_function(model, eval_loader)\n",
    "    for vp in valid_preds:\n",
    "        current_preds = decode_predictions(vp, lbl_enc)\n",
    "    \n",
    "    preds = clean_decoded_predictions(current_preds[0])\n",
    "\n",
    "    if preds == target:\n",
    "        success = True\n",
    "    else:\n",
    "        success = False\n",
    "\n",
    "    return{\n",
    "        \"success\": success,\n",
    "        \"prediction\": preds,\n",
    "        \"real\": target\n",
    "    }"
   ],
   "metadata": {
    "trusted": true
   },
   "execution_count": 18,
   "outputs": []
  },
  {
   "cell_type": "code",
   "source": [
    "preds = predict_captcha(model, eval_loader, image_path)\n",
    "print(preds)"
   ],
   "metadata": {
    "trusted": true
   },
   "execution_count": 19,
   "outputs": [
    {
     "name": "stderr",
     "output_type": "stream",
     "text": [
      "100%|██████████| 1/1 [00:00<00:00, 166.68it/s]"
     ]
    },
    {
     "name": "stdout",
     "output_type": "stream",
     "text": [
      "{'success': True, 'prediction': '5z149CSQOY', 'real': '5z149CSQOY'}\n"
     ]
    },
    {
     "name": "stderr",
     "output_type": "stream",
     "text": [
      "\n"
     ]
    },
    {
     "data": {
      "text/plain": "<Figure size 1500x500 with 1 Axes>",
      "image/png": "[encoded data removed]"
     },
     "metadata": {},
     "output_type": "display_data"
    }
   ]
  }
 ]
}
